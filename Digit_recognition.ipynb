{
  "nbformat": 4,
  "nbformat_minor": 0,
  "metadata": {
    "colab": {
      "name": "Digit_recognition.ipynb",
      "provenance": [],
      "collapsed_sections": [],
      "authorship_tag": "ABX9TyNABxNqnWtWmuu92jKRXWEr",
      "include_colab_link": true
    },
    "kernelspec": {
      "name": "python3",
      "display_name": "Python 3"
    },
    "accelerator": "GPU"
  },
  "cells": [
    {
      "cell_type": "markdown",
      "metadata": {
        "id": "view-in-github",
        "colab_type": "text"
      },
      "source": [
        "<a href=\"https://colab.research.google.com/github/AdarshRaj9/Digit-Recognition/blob/main/Digit_recognition.ipynb\" target=\"_parent\"><img src=\"https://colab.research.google.com/assets/colab-badge.svg\" alt=\"Open In Colab\"/></a>"
      ]
    },
    {
      "cell_type": "code",
      "metadata": {
        "id": "y7kychu5gg1E"
      },
      "source": [
        "import keras\n"
      ],
      "execution_count": 2,
      "outputs": []
    },
    {
      "cell_type": "code",
      "metadata": {
        "id": "gYwGep1Knj2I"
      },
      "source": [
        "from keras.datasets import mnist"
      ],
      "execution_count": 3,
      "outputs": []
    },
    {
      "cell_type": "code",
      "metadata": {
        "colab": {
          "base_uri": "https://localhost:8080/"
        },
        "id": "aHakN2j1nxq5",
        "outputId": "f0bdb00f-d32e-4bb5-e19b-404c859dc2f8"
      },
      "source": [
        "data=mnist.load_data()\n",
        "(train_images,train_labels),(test_images,test_labels)=data"
      ],
      "execution_count": 4,
      "outputs": [
        {
          "output_type": "stream",
          "text": [
            "Downloading data from https://storage.googleapis.com/tensorflow/tf-keras-datasets/mnist.npz\n",
            "11493376/11490434 [==============================] - 0s 0us/step\n"
          ],
          "name": "stdout"
        }
      ]
    },
    {
      "cell_type": "code",
      "metadata": {
        "colab": {
          "base_uri": "https://localhost:8080/"
        },
        "id": "TBSFCPnWoNBU",
        "outputId": "105798da-4def-4fb2-9a5d-e99c5aaf04f9"
      },
      "source": [
        "len(train_images)"
      ],
      "execution_count": 5,
      "outputs": [
        {
          "output_type": "execute_result",
          "data": {
            "text/plain": [
              "60000"
            ]
          },
          "metadata": {
            "tags": []
          },
          "execution_count": 5
        }
      ]
    },
    {
      "cell_type": "code",
      "metadata": {
        "colab": {
          "base_uri": "https://localhost:8080/"
        },
        "id": "nzvHdt40oWb1",
        "outputId": "655ad40a-e02a-4c36-b12b-d1688ffd6044"
      },
      "source": [
        "len(train_labels)"
      ],
      "execution_count": 6,
      "outputs": [
        {
          "output_type": "execute_result",
          "data": {
            "text/plain": [
              "60000"
            ]
          },
          "metadata": {
            "tags": []
          },
          "execution_count": 6
        }
      ]
    },
    {
      "cell_type": "code",
      "metadata": {
        "colab": {
          "base_uri": "https://localhost:8080/"
        },
        "id": "3UGv_V6nobOF",
        "outputId": "f6446c9d-8c21-466c-88ed-2fbdcb04ebbc"
      },
      "source": [
        "len(test_images)"
      ],
      "execution_count": 7,
      "outputs": [
        {
          "output_type": "execute_result",
          "data": {
            "text/plain": [
              "10000"
            ]
          },
          "metadata": {
            "tags": []
          },
          "execution_count": 7
        }
      ]
    },
    {
      "cell_type": "code",
      "metadata": {
        "colab": {
          "base_uri": "https://localhost:8080/"
        },
        "id": "UZmVVWQLoeCH",
        "outputId": "1a40ec88-8ca6-446e-df4d-f74a3980e76d"
      },
      "source": [
        "len(test_labels)"
      ],
      "execution_count": 8,
      "outputs": [
        {
          "output_type": "execute_result",
          "data": {
            "text/plain": [
              "10000"
            ]
          },
          "metadata": {
            "tags": []
          },
          "execution_count": 8
        }
      ]
    },
    {
      "cell_type": "code",
      "metadata": {
        "id": "k2RRN6lGog5o"
      },
      "source": [
        "train_images=train_images.reshape((60000,28,28,1))"
      ],
      "execution_count": 9,
      "outputs": []
    },
    {
      "cell_type": "code",
      "metadata": {
        "id": "phMVzPJSo_5F"
      },
      "source": [
        "test_images=test_images.reshape((10000,28,28,1))"
      ],
      "execution_count": 10,
      "outputs": []
    },
    {
      "cell_type": "code",
      "metadata": {
        "id": "QCJ_3ySppKh5"
      },
      "source": [
        "train_images=train_images.astype('float')/255"
      ],
      "execution_count": 11,
      "outputs": []
    },
    {
      "cell_type": "code",
      "metadata": {
        "id": "6o-JYK2kpWbx"
      },
      "source": [
        "test_images=test_images.astype('float')/255"
      ],
      "execution_count": 12,
      "outputs": []
    },
    {
      "cell_type": "code",
      "metadata": {
        "id": "t0qYSzUcpfws"
      },
      "source": [
        "from keras.preprocessing import image\n",
        "import matplotlib.pyplot as plt\n"
      ],
      "execution_count": 13,
      "outputs": []
    },
    {
      "cell_type": "code",
      "metadata": {
        "colab": {
          "base_uri": "https://localhost:8080/",
          "height": 282
        },
        "id": "RgkcqaCGp7Ms",
        "outputId": "84de530d-4b27-4f61-9153-698073d43b62"
      },
      "source": [
        "plt.imshow(image.array_to_img(train_images[8]),cmap=\"gray\")"
      ],
      "execution_count": 14,
      "outputs": [
        {
          "output_type": "execute_result",
          "data": {
            "text/plain": [
              "<matplotlib.image.AxesImage at 0x7f53da60e6a0>"
            ]
          },
          "metadata": {
            "tags": []
          },
          "execution_count": 14
        },
        {
          "output_type": "display_data",
          "data": {
            "image/png": "[encoded data removed]",
            "text/plain": [
              "<Figure size 432x288 with 1 Axes>"
            ]
          },
          "metadata": {
            "tags": [],
            "needs_background": "light"
          }
        }
      ]
    },
    {
      "cell_type": "code",
      "metadata": {
        "colab": {
          "base_uri": "https://localhost:8080/"
        },
        "id": "SJm7gfd7qbNH",
        "outputId": "c5b35c74-d865-4b7f-821c-3aa4d7f449f3"
      },
      "source": [
        "train_labels[8]"
      ],
      "execution_count": 15,
      "outputs": [
        {
          "output_type": "execute_result",
          "data": {
            "text/plain": [
              "1"
            ]
          },
          "metadata": {
            "tags": []
          },
          "execution_count": 15
        }
      ]
    },
    {
      "cell_type": "code",
      "metadata": {
        "id": "aqXZ-UBtqyCe"
      },
      "source": [
        "from keras.utils import to_categorical\n",
        "train_labels_original = train_labels\n",
        "train_labels = to_categorical(train_labels)"
      ],
      "execution_count": 16,
      "outputs": []
    },
    {
      "cell_type": "code",
      "metadata": {
        "colab": {
          "base_uri": "https://localhost:8080/"
        },
        "id": "gzOKkoYxH0ga",
        "outputId": "5df13257-592d-49bd-825f-47391abe2e8f"
      },
      "source": [
        "train_labels[20]\n"
      ],
      "execution_count": 17,
      "outputs": [
        {
          "output_type": "execute_result",
          "data": {
            "text/plain": [
              "array([0., 0., 0., 0., 1., 0., 0., 0., 0., 0.], dtype=float32)"
            ]
          },
          "metadata": {
            "tags": []
          },
          "execution_count": 17
        }
      ]
    },
    {
      "cell_type": "code",
      "metadata": {
        "colab": {
          "base_uri": "https://localhost:8080/",
          "height": 282
        },
        "id": "FcNYlw_FID5D",
        "outputId": "10727eb1-29d1-4727-a663-bb15e12afd55"
      },
      "source": [
        "plt.imshow(image.array_to_img(train_images[88]),cmap=\"gray\")"
      ],
      "execution_count": 18,
      "outputs": [
        {
          "output_type": "execute_result",
          "data": {
            "text/plain": [
              "<matplotlib.image.AxesImage at 0x7f53d2f03358>"
            ]
          },
          "metadata": {
            "tags": []
          },
          "execution_count": 18
        },
        {
          "output_type": "display_data",
          "data": {
            "image/png": "[encoded data removed]",
            "text/plain": [
              "<Figure size 432x288 with 1 Axes>"
            ]
          },
          "metadata": {
            "tags": [],
            "needs_background": "light"
          }
        }
      ]
    },
    {
      "cell_type": "code",
      "metadata": {
        "colab": {
          "base_uri": "https://localhost:8080/"
        },
        "id": "IFQtS6f7IJq-",
        "outputId": "86f50bee-8064-4767-a91d-f6aa39ba48d0"
      },
      "source": [
        "train_labels[88]"
      ],
      "execution_count": 19,
      "outputs": [
        {
          "output_type": "execute_result",
          "data": {
            "text/plain": [
              "array([1., 0., 0., 0., 0., 0., 0., 0., 0., 0.], dtype=float32)"
            ]
          },
          "metadata": {
            "tags": []
          },
          "execution_count": 19
        }
      ]
    },
    {
      "cell_type": "code",
      "metadata": {
        "id": "6Q_5aoQkIN3b"
      },
      "source": [
        "test_labels_original = test_labels\n",
        "test_labels = to_categorical(test_labels)"
      ],
      "execution_count": 20,
      "outputs": []
    },
    {
      "cell_type": "code",
      "metadata": {
        "colab": {
          "base_uri": "https://localhost:8080/"
        },
        "id": "oNIzhU0oJHtx",
        "outputId": "679eb87e-3b58-4a5a-d4c6-b8b5dce576ab"
      },
      "source": [
        "test_labels_original[7]"
      ],
      "execution_count": 21,
      "outputs": [
        {
          "output_type": "execute_result",
          "data": {
            "text/plain": [
              "9"
            ]
          },
          "metadata": {
            "tags": []
          },
          "execution_count": 21
        }
      ]
    },
    {
      "cell_type": "code",
      "metadata": {
        "colab": {
          "base_uri": "https://localhost:8080/"
        },
        "id": "AGBg50mTJQmE",
        "outputId": "97cc307d-f1e2-4d96-b5e8-9bb10114c5af"
      },
      "source": [
        "test_labels[7]"
      ],
      "execution_count": 22,
      "outputs": [
        {
          "output_type": "execute_result",
          "data": {
            "text/plain": [
              "array([0., 0., 0., 0., 0., 0., 0., 0., 0., 1.], dtype=float32)"
            ]
          },
          "metadata": {
            "tags": []
          },
          "execution_count": 22
        }
      ]
    },
    {
      "cell_type": "code",
      "metadata": {
        "id": "cYLPTXGGJW1O"
      },
      "source": [
        "from keras import layers, models"
      ],
      "execution_count": 23,
      "outputs": []
    },
    {
      "cell_type": "code",
      "metadata": {
        "id": "kbQerurpJekG"
      },
      "source": [
        "model=models.Sequential()"
      ],
      "execution_count": 28,
      "outputs": []
    },
    {
      "cell_type": "code",
      "metadata": {
        "id": "dsZNx3_DKUZA"
      },
      "source": [
        "#model.add(layers.Conv2D(32,(3,3),activation='relu',input_shape=(28,28,1)))\n",
        "model.add(layers.Conv2D(32, (3,3), activation='relu', input_shape = (28,28,1)))"
      ],
      "execution_count": 29,
      "outputs": []
    },
    {
      "cell_type": "code",
      "metadata": {
        "colab": {
          "base_uri": "https://localhost:8080/"
        },
        "id": "PufAY3PXK5qV",
        "outputId": "e440e815-3804-4f45-c8dc-88893038da2d"
      },
      "source": [
        "model.summary()"
      ],
      "execution_count": 30,
      "outputs": [
        {
          "output_type": "stream",
          "text": [
            "Model: \"sequential\"\n",
            "_________________________________________________________________\n",
            "Layer (type)                 Output Shape              Param #   \n",
            "=================================================================\n",
            "conv2d_2 (Conv2D)            (None, 26, 26, 32)        320       \n",
            "=================================================================\n",
            "Total params: 320\n",
            "Trainable params: 320\n",
            "Non-trainable params: 0\n",
            "_________________________________________________________________\n"
          ],
          "name": "stdout"
        }
      ]
    },
    {
      "cell_type": "code",
      "metadata": {
        "id": "ceYrf8K8LV46"
      },
      "source": [
        "model.add(layers.MaxPooling2D((2,2)))"
      ],
      "execution_count": 34,
      "outputs": []
    },
    {
      "cell_type": "code",
      "metadata": {
        "id": "TQ9NpjdLLp-r"
      },
      "source": [
        "model.add(layers.Conv2D(64, (3,3), activation = 'relu'))"
      ],
      "execution_count": 35,
      "outputs": []
    },
    {
      "cell_type": "code",
      "metadata": {
        "colab": {
          "base_uri": "https://localhost:8080/"
        },
        "id": "1wfimBOJL7R-",
        "outputId": "0ffee02e-b35e-4c69-9e0b-88ac8c3166d2"
      },
      "source": [
        "model.summary()"
      ],
      "execution_count": 36,
      "outputs": [
        {
          "output_type": "stream",
          "text": [
            "Model: \"sequential\"\n",
            "_________________________________________________________________\n",
            "Layer (type)                 Output Shape              Param #   \n",
            "=================================================================\n",
            "conv2d_2 (Conv2D)            (None, 26, 26, 32)        320       \n",
            "_________________________________________________________________\n",
            "max_pooling2d (MaxPooling2D) (None, 13, 13, 32)        0         \n",
            "_________________________________________________________________\n",
            "conv2d_3 (Conv2D)            (None, 11, 11, 64)        18496     \n",
            "_________________________________________________________________\n",
            "max_pooling2d_1 (MaxPooling2 (None, 5, 5, 64)          0         \n",
            "_________________________________________________________________\n",
            "conv2d_4 (Conv2D)            (None, 3, 3, 64)          36928     \n",
            "=================================================================\n",
            "Total params: 55,744\n",
            "Trainable params: 55,744\n",
            "Non-trainable params: 0\n",
            "_________________________________________________________________\n"
          ],
          "name": "stdout"
        }
      ]
    },
    {
      "cell_type": "code",
      "metadata": {
        "id": "FTCNSLFcL_LJ"
      },
      "source": [
        "model.add(layers.Flatten())"
      ],
      "execution_count": 39,
      "outputs": []
    },
    {
      "cell_type": "code",
      "metadata": {
        "colab": {
          "base_uri": "https://localhost:8080/"
        },
        "id": "RcJWcnWuMsX4",
        "outputId": "5686f53f-a3c2-410b-ca64-4aeb986307dd"
      },
      "source": [
        "model.summary()"
      ],
      "execution_count": 40,
      "outputs": [
        {
          "output_type": "stream",
          "text": [
            "Model: \"sequential\"\n",
            "_________________________________________________________________\n",
            "Layer (type)                 Output Shape              Param #   \n",
            "=================================================================\n",
            "conv2d_2 (Conv2D)            (None, 26, 26, 32)        320       \n",
            "_________________________________________________________________\n",
            "max_pooling2d (MaxPooling2D) (None, 13, 13, 32)        0         \n",
            "_________________________________________________________________\n",
            "conv2d_3 (Conv2D)            (None, 11, 11, 64)        18496     \n",
            "_________________________________________________________________\n",
            "max_pooling2d_1 (MaxPooling2 (None, 5, 5, 64)          0         \n",
            "_________________________________________________________________\n",
            "conv2d_4 (Conv2D)            (None, 3, 3, 64)          36928     \n",
            "_________________________________________________________________\n",
            "max_pooling2d_2 (MaxPooling2 (None, 1, 1, 64)          0         \n",
            "_________________________________________________________________\n",
            "flatten (Flatten)            (None, 64)                0         \n",
            "=================================================================\n",
            "Total params: 55,744\n",
            "Trainable params: 55,744\n",
            "Non-trainable params: 0\n",
            "_________________________________________________________________\n"
          ],
          "name": "stdout"
        }
      ]
    },
    {
      "cell_type": "code",
      "metadata": {
        "id": "Zn7U6RWpMwH5"
      },
      "source": [
        "model.add(layers.Dense(64, activation = 'relu'))"
      ],
      "execution_count": 41,
      "outputs": []
    },
    {
      "cell_type": "code",
      "metadata": {
        "id": "q4CYn5QcNH64"
      },
      "source": [
        "model.add(layers.Dense(10, activation='softmax'))"
      ],
      "execution_count": 42,
      "outputs": []
    },
    {
      "cell_type": "code",
      "metadata": {
        "colab": {
          "base_uri": "https://localhost:8080/"
        },
        "id": "p7ufpFLgNMS0",
        "outputId": "d5fc152e-3415-48f3-d773-0d265ee5103c"
      },
      "source": [
        "model.summary()"
      ],
      "execution_count": 43,
      "outputs": [
        {
          "output_type": "stream",
          "text": [
            "Model: \"sequential\"\n",
            "_________________________________________________________________\n",
            "Layer (type)                 Output Shape              Param #   \n",
            "=================================================================\n",
            "conv2d_2 (Conv2D)            (None, 26, 26, 32)        320       \n",
            "_________________________________________________________________\n",
            "max_pooling2d (MaxPooling2D) (None, 13, 13, 32)        0         \n",
            "_________________________________________________________________\n",
            "conv2d_3 (Conv2D)            (None, 11, 11, 64)        18496     \n",
            "_________________________________________________________________\n",
            "max_pooling2d_1 (MaxPooling2 (None, 5, 5, 64)          0         \n",
            "_________________________________________________________________\n",
            "conv2d_4 (Conv2D)            (None, 3, 3, 64)          36928     \n",
            "_________________________________________________________________\n",
            "max_pooling2d_2 (MaxPooling2 (None, 1, 1, 64)          0         \n",
            "_________________________________________________________________\n",
            "flatten (Flatten)            (None, 64)                0         \n",
            "_________________________________________________________________\n",
            "dense (Dense)                (None, 64)                4160      \n",
            "_________________________________________________________________\n",
            "dense_1 (Dense)              (None, 10)                650       \n",
            "=================================================================\n",
            "Total params: 60,554\n",
            "Trainable params: 60,554\n",
            "Non-trainable params: 0\n",
            "_________________________________________________________________\n"
          ],
          "name": "stdout"
        }
      ]
    },
    {
      "cell_type": "code",
      "metadata": {
        "id": "THIowSNLNO4c"
      },
      "source": [
        "model.compile(loss='categorical_crossentropy', optimizer='rmsprop', metrics=['accuracy'])"
      ],
      "execution_count": 44,
      "outputs": []
    },
    {
      "cell_type": "code",
      "metadata": {
        "colab": {
          "base_uri": "https://localhost:8080/"
        },
        "id": "XOwr8B7XNVzc",
        "outputId": "ee19846e-ea5d-42ea-b74e-39e4d5fae648"
      },
      "source": [
        "model.fit(train_images, train_labels, epochs = 100, batch_size=64)"
      ],
      "execution_count": 45,
      "outputs": [
        {
          "output_type": "stream",
          "text": [
            "Epoch 1/100\n",
            "938/938 [==============================] - 4s 4ms/step - loss: 0.2847 - accuracy: 0.9104\n",
            "Epoch 2/100\n",
            "938/938 [==============================] - 3s 3ms/step - loss: 0.0820 - accuracy: 0.9740\n",
            "Epoch 3/100\n",
            "938/938 [==============================] - 3s 3ms/step - loss: 0.0560 - accuracy: 0.9828\n",
            "Epoch 4/100\n",
            "938/938 [==============================] - 3s 4ms/step - loss: 0.0429 - accuracy: 0.9866\n",
            "Epoch 5/100\n",
            "938/938 [==============================] - 3s 3ms/step - loss: 0.0334 - accuracy: 0.9896\n",
            "Epoch 6/100\n",
            "938/938 [==============================] - 3s 3ms/step - loss: 0.0284 - accuracy: 0.9909\n",
            "Epoch 7/100\n",
            "938/938 [==============================] - 3s 3ms/step - loss: 0.0239 - accuracy: 0.9928\n",
            "Epoch 8/100\n",
            "938/938 [==============================] - 3s 3ms/step - loss: 0.0195 - accuracy: 0.9938\n",
            "Epoch 9/100\n",
            "938/938 [==============================] - 3s 3ms/step - loss: 0.0171 - accuracy: 0.9947\n",
            "Epoch 10/100\n",
            "938/938 [==============================] - 3s 4ms/step - loss: 0.0144 - accuracy: 0.9957\n",
            "Epoch 11/100\n",
            "938/938 [==============================] - 4s 4ms/step - loss: 0.0130 - accuracy: 0.9960\n",
            "Epoch 12/100\n",
            "938/938 [==============================] - 3s 4ms/step - loss: 0.0114 - accuracy: 0.9966\n",
            "Epoch 13/100\n",
            "938/938 [==============================] - 3s 4ms/step - loss: 0.0092 - accuracy: 0.9970\n",
            "Epoch 14/100\n",
            "938/938 [==============================] - 3s 3ms/step - loss: 0.0092 - accuracy: 0.9973\n",
            "Epoch 15/100\n",
            "938/938 [==============================] - 3s 3ms/step - loss: 0.0068 - accuracy: 0.9977\n",
            "Epoch 16/100\n",
            "938/938 [==============================] - 3s 3ms/step - loss: 0.0073 - accuracy: 0.9976\n",
            "Epoch 17/100\n",
            "938/938 [==============================] - 4s 4ms/step - loss: 0.0083 - accuracy: 0.9974\n",
            "Epoch 18/100\n",
            "938/938 [==============================] - 3s 4ms/step - loss: 0.0077 - accuracy: 0.9977\n",
            "Epoch 19/100\n",
            "938/938 [==============================] - 3s 3ms/step - loss: 0.0059 - accuracy: 0.9982\n",
            "Epoch 20/100\n",
            "938/938 [==============================] - 3s 4ms/step - loss: 0.0051 - accuracy: 0.9987\n",
            "Epoch 21/100\n",
            "938/938 [==============================] - 3s 3ms/step - loss: 0.0053 - accuracy: 0.9985\n",
            "Epoch 22/100\n",
            "938/938 [==============================] - 3s 3ms/step - loss: 0.0055 - accuracy: 0.9985\n",
            "Epoch 23/100\n",
            "938/938 [==============================] - 3s 3ms/step - loss: 0.0066 - accuracy: 0.9984\n",
            "Epoch 24/100\n",
            "938/938 [==============================] - 3s 3ms/step - loss: 0.0060 - accuracy: 0.9984\n",
            "Epoch 25/100\n",
            "938/938 [==============================] - 3s 3ms/step - loss: 0.0047 - accuracy: 0.9986\n",
            "Epoch 26/100\n",
            "938/938 [==============================] - 3s 3ms/step - loss: 0.0055 - accuracy: 0.9987\n",
            "Epoch 27/100\n",
            "938/938 [==============================] - 3s 3ms/step - loss: 0.0044 - accuracy: 0.9987\n",
            "Epoch 28/100\n",
            "938/938 [==============================] - 3s 3ms/step - loss: 0.0026 - accuracy: 0.9992\n",
            "Epoch 29/100\n",
            "938/938 [==============================] - 3s 4ms/step - loss: 0.0043 - accuracy: 0.9989\n",
            "Epoch 30/100\n",
            "938/938 [==============================] - 3s 3ms/step - loss: 0.0047 - accuracy: 0.9988\n",
            "Epoch 31/100\n",
            "938/938 [==============================] - 3s 3ms/step - loss: 0.0050 - accuracy: 0.9987\n",
            "Epoch 32/100\n",
            "938/938 [==============================] - 3s 3ms/step - loss: 0.0046 - accuracy: 0.9990\n",
            "Epoch 33/100\n",
            "938/938 [==============================] - 3s 3ms/step - loss: 0.0046 - accuracy: 0.9990\n",
            "Epoch 34/100\n",
            "938/938 [==============================] - 3s 3ms/step - loss: 0.0043 - accuracy: 0.9988\n",
            "Epoch 35/100\n",
            "938/938 [==============================] - 3s 3ms/step - loss: 0.0026 - accuracy: 0.9992\n",
            "Epoch 36/100\n",
            "938/938 [==============================] - 3s 4ms/step - loss: 0.0020 - accuracy: 0.9995\n",
            "Epoch 37/100\n",
            "938/938 [==============================] - 3s 3ms/step - loss: 0.0040 - accuracy: 0.9991\n",
            "Epoch 38/100\n",
            "938/938 [==============================] - 3s 4ms/step - loss: 0.0036 - accuracy: 0.9993\n",
            "Epoch 39/100\n",
            "938/938 [==============================] - 3s 3ms/step - loss: 0.0037 - accuracy: 0.9991\n",
            "Epoch 40/100\n",
            "938/938 [==============================] - 3s 3ms/step - loss: 0.0027 - accuracy: 0.9993\n",
            "Epoch 41/100\n",
            "938/938 [==============================] - 3s 3ms/step - loss: 0.0026 - accuracy: 0.9993\n",
            "Epoch 42/100\n",
            "938/938 [==============================] - 3s 3ms/step - loss: 0.0038 - accuracy: 0.9991\n",
            "Epoch 43/100\n",
            "938/938 [==============================] - 3s 3ms/step - loss: 0.0034 - accuracy: 0.9992\n",
            "Epoch 44/100\n",
            "938/938 [==============================] - 3s 3ms/step - loss: 0.0033 - accuracy: 0.9991\n",
            "Epoch 45/100\n",
            "938/938 [==============================] - 3s 4ms/step - loss: 0.0031 - accuracy: 0.9993\n",
            "Epoch 46/100\n",
            "938/938 [==============================] - 3s 3ms/step - loss: 0.0041 - accuracy: 0.9992\n",
            "Epoch 47/100\n",
            "938/938 [==============================] - 3s 4ms/step - loss: 0.0017 - accuracy: 0.9996\n",
            "Epoch 48/100\n",
            "938/938 [==============================] - 3s 3ms/step - loss: 0.0029 - accuracy: 0.9993\n",
            "Epoch 49/100\n",
            "938/938 [==============================] - 3s 3ms/step - loss: 0.0032 - accuracy: 0.9993\n",
            "Epoch 50/100\n",
            "938/938 [==============================] - 3s 4ms/step - loss: 0.0027 - accuracy: 0.9994\n",
            "Epoch 51/100\n",
            "938/938 [==============================] - 3s 4ms/step - loss: 0.0034 - accuracy: 0.9994\n",
            "Epoch 52/100\n",
            "938/938 [==============================] - 3s 4ms/step - loss: 0.0029 - accuracy: 0.9993\n",
            "Epoch 53/100\n",
            "938/938 [==============================] - 3s 3ms/step - loss: 0.0021 - accuracy: 0.9995\n",
            "Epoch 54/100\n",
            "938/938 [==============================] - 3s 3ms/step - loss: 0.0043 - accuracy: 0.9992\n",
            "Epoch 55/100\n",
            "938/938 [==============================] - 3s 3ms/step - loss: 0.0026 - accuracy: 0.9994\n",
            "Epoch 56/100\n",
            "938/938 [==============================] - 3s 4ms/step - loss: 0.0043 - accuracy: 0.9993\n",
            "Epoch 57/100\n",
            "938/938 [==============================] - 3s 4ms/step - loss: 0.0033 - accuracy: 0.9993\n",
            "Epoch 58/100\n",
            "938/938 [==============================] - 3s 3ms/step - loss: 0.0032 - accuracy: 0.9993\n",
            "Epoch 59/100\n",
            "938/938 [==============================] - 3s 3ms/step - loss: 0.0029 - accuracy: 0.9994\n",
            "Epoch 60/100\n",
            "938/938 [==============================] - 3s 3ms/step - loss: 0.0017 - accuracy: 0.9996\n",
            "Epoch 61/100\n",
            "938/938 [==============================] - 3s 3ms/step - loss: 0.0022 - accuracy: 0.9995\n",
            "Epoch 62/100\n",
            "938/938 [==============================] - 3s 3ms/step - loss: 0.0020 - accuracy: 0.9996\n",
            "Epoch 63/100\n",
            "938/938 [==============================] - 3s 3ms/step - loss: 0.0028 - accuracy: 0.9994\n",
            "Epoch 64/100\n",
            "938/938 [==============================] - 3s 3ms/step - loss: 0.0036 - accuracy: 0.9992\n",
            "Epoch 65/100\n",
            "938/938 [==============================] - 3s 3ms/step - loss: 0.0022 - accuracy: 0.9996\n",
            "Epoch 66/100\n",
            "938/938 [==============================] - 3s 3ms/step - loss: 0.0048 - accuracy: 0.9992\n",
            "Epoch 67/100\n",
            "938/938 [==============================] - 3s 4ms/step - loss: 0.0024 - accuracy: 0.9996\n",
            "Epoch 68/100\n",
            "938/938 [==============================] - 3s 3ms/step - loss: 0.0028 - accuracy: 0.9995\n",
            "Epoch 69/100\n",
            "938/938 [==============================] - 3s 3ms/step - loss: 0.0030 - accuracy: 0.9995\n",
            "Epoch 70/100\n",
            "938/938 [==============================] - 3s 3ms/step - loss: 0.0045 - accuracy: 0.9993\n",
            "Epoch 71/100\n",
            "938/938 [==============================] - 3s 3ms/step - loss: 0.0039 - accuracy: 0.9992\n",
            "Epoch 72/100\n",
            "938/938 [==============================] - 4s 4ms/step - loss: 0.0027 - accuracy: 0.9995\n",
            "Epoch 73/100\n",
            "938/938 [==============================] - 3s 3ms/step - loss: 0.0027 - accuracy: 0.9995\n",
            "Epoch 74/100\n",
            "938/938 [==============================] - 3s 3ms/step - loss: 0.0019 - accuracy: 0.9997\n",
            "Epoch 75/100\n",
            "938/938 [==============================] - 3s 3ms/step - loss: 0.0024 - accuracy: 0.9994\n",
            "Epoch 76/100\n",
            "938/938 [==============================] - 3s 3ms/step - loss: 0.0030 - accuracy: 0.9995\n",
            "Epoch 77/100\n",
            "938/938 [==============================] - 3s 4ms/step - loss: 0.0016 - accuracy: 0.9997\n",
            "Epoch 78/100\n",
            "938/938 [==============================] - 3s 4ms/step - loss: 0.0036 - accuracy: 0.9995\n",
            "Epoch 79/100\n",
            "938/938 [==============================] - 3s 3ms/step - loss: 0.0033 - accuracy: 0.9995\n",
            "Epoch 80/100\n",
            "938/938 [==============================] - 3s 3ms/step - loss: 0.0032 - accuracy: 0.9994\n",
            "Epoch 81/100\n",
            "938/938 [==============================] - 3s 3ms/step - loss: 0.0036 - accuracy: 0.9996\n",
            "Epoch 82/100\n",
            "938/938 [==============================] - 3s 3ms/step - loss: 0.0027 - accuracy: 0.9996\n",
            "Epoch 83/100\n",
            "938/938 [==============================] - 3s 3ms/step - loss: 0.0028 - accuracy: 0.9996\n",
            "Epoch 84/100\n",
            "938/938 [==============================] - 3s 3ms/step - loss: 0.0020 - accuracy: 0.9995\n",
            "Epoch 85/100\n",
            "938/938 [==============================] - 3s 4ms/step - loss: 0.0018 - accuracy: 0.9997\n",
            "Epoch 86/100\n",
            "938/938 [==============================] - 3s 3ms/step - loss: 0.0024 - accuracy: 0.9996\n",
            "Epoch 87/100\n",
            "938/938 [==============================] - 3s 3ms/step - loss: 0.0038 - accuracy: 0.9994\n",
            "Epoch 88/100\n",
            "938/938 [==============================] - 3s 3ms/step - loss: 0.0037 - accuracy: 0.9995\n",
            "Epoch 89/100\n",
            "938/938 [==============================] - 3s 3ms/step - loss: 0.0025 - accuracy: 0.9996\n",
            "Epoch 90/100\n",
            "938/938 [==============================] - 3s 3ms/step - loss: 0.0027 - accuracy: 0.9996\n",
            "Epoch 91/100\n",
            "938/938 [==============================] - 3s 3ms/step - loss: 0.0027 - accuracy: 0.9997\n",
            "Epoch 92/100\n",
            "938/938 [==============================] - 3s 4ms/step - loss: 0.0037 - accuracy: 0.9995\n",
            "Epoch 93/100\n",
            "938/938 [==============================] - 3s 3ms/step - loss: 0.0045 - accuracy: 0.9994\n",
            "Epoch 94/100\n",
            "938/938 [==============================] - 3s 3ms/step - loss: 0.0053 - accuracy: 0.9995\n",
            "Epoch 95/100\n",
            "938/938 [==============================] - 3s 3ms/step - loss: 0.0019 - accuracy: 0.9997\n",
            "Epoch 96/100\n",
            "938/938 [==============================] - 3s 3ms/step - loss: 0.0022 - accuracy: 0.9996\n",
            "Epoch 97/100\n",
            "938/938 [==============================] - 3s 3ms/step - loss: 0.0042 - accuracy: 0.9995\n",
            "Epoch 98/100\n",
            "938/938 [==============================] - 3s 3ms/step - loss: 0.0020 - accuracy: 0.9996\n",
            "Epoch 99/100\n",
            "938/938 [==============================] - 3s 4ms/step - loss: 0.0020 - accuracy: 0.9997\n",
            "Epoch 100/100\n",
            "938/938 [==============================] - 3s 3ms/step - loss: 0.0043 - accuracy: 0.9995\n"
          ],
          "name": "stdout"
        },
        {
          "output_type": "execute_result",
          "data": {
            "text/plain": [
              "<tensorflow.python.keras.callbacks.History at 0x7f53675e7668>"
            ]
          },
          "metadata": {
            "tags": []
          },
          "execution_count": 45
        }
      ]
    },
    {
      "cell_type": "code",
      "metadata": {
        "colab": {
          "base_uri": "https://localhost:8080/"
        },
        "id": "CW8x3OLbNZDB",
        "outputId": "b841e44d-9d89-4b12-ffae-9ac1cb66baec"
      },
      "source": [
        "test_loss, test_accuracy = model.evaluate(test_images, test_labels)"
      ],
      "execution_count": 46,
      "outputs": [
        {
          "output_type": "stream",
          "text": [
            "313/313 [==============================] - 1s 2ms/step - loss: 0.3456 - accuracy: 0.9888\n"
          ],
          "name": "stdout"
        }
      ]
    },
    {
      "cell_type": "code",
      "metadata": {
        "colab": {
          "base_uri": "https://localhost:8080/"
        },
        "id": "u-Bfe4hsO2ey",
        "outputId": "f41cf01f-200a-4347-d2d7-94684fe99d47"
      },
      "source": [
        "test_accuracy"
      ],
      "execution_count": 47,
      "outputs": [
        {
          "output_type": "execute_result",
          "data": {
            "text/plain": [
              "0.9887999892234802"
            ]
          },
          "metadata": {
            "tags": []
          },
          "execution_count": 47
        }
      ]
    },
    {
      "cell_type": "code",
      "metadata": {
        "colab": {
          "base_uri": "https://localhost:8080/"
        },
        "id": "oD6qrXg4O6Wv",
        "outputId": "c4c5cd2a-a4a1-4189-9f0c-7e6d0be9446a"
      },
      "source": [
        "predictions = model.predict_classes(test_images)"
      ],
      "execution_count": 48,
      "outputs": [
        {
          "output_type": "stream",
          "text": [
            "WARNING:tensorflow:From <ipython-input-48-cd3d268a0ddd>:1: Sequential.predict_classes (from tensorflow.python.keras.engine.sequential) is deprecated and will be removed after 2021-01-01.\n",
            "Instructions for updating:\n",
            "Please use instead:* `np.argmax(model.predict(x), axis=-1)`,   if your model does multi-class classification   (e.g. if it uses a `softmax` last-layer activation).* `(model.predict(x) > 0.5).astype(\"int32\")`,   if your model does binary classification   (e.g. if it uses a `sigmoid` last-layer activation).\n"
          ],
          "name": "stdout"
        }
      ]
    },
    {
      "cell_type": "code",
      "metadata": {
        "colab": {
          "base_uri": "https://localhost:8080/",
          "height": 282
        },
        "id": "0nUsULfLPDKu",
        "outputId": "848f897c-0f9d-404c-bbbf-49fe50ef6f42"
      },
      "source": [
        "plt.imshow(image.array_to_img(test_images[999]), cmap=\"gray\")"
      ],
      "execution_count": 49,
      "outputs": [
        {
          "output_type": "execute_result",
          "data": {
            "text/plain": [
              "<matplotlib.image.AxesImage at 0x7f536ef64cc0>"
            ]
          },
          "metadata": {
            "tags": []
          },
          "execution_count": 49
        },
        {
          "output_type": "display_data",
          "data": {
            "image/png": "[encoded data removed]",
            "text/plain": [
              "<Figure size 432x288 with 1 Axes>"
            ]
          },
          "metadata": {
            "tags": [],
            "needs_background": "light"
          }
        }
      ]
    },
    {
      "cell_type": "code",
      "metadata": {
        "colab": {
          "base_uri": "https://localhost:8080/"
        },
        "id": "NIK0dIuXPHLa",
        "outputId": "6527c935-6e65-4b7e-fc0c-b75a15dfa760"
      },
      "source": [
        "predictions[999]"
      ],
      "execution_count": 50,
      "outputs": [
        {
          "output_type": "execute_result",
          "data": {
            "text/plain": [
              "9"
            ]
          },
          "metadata": {
            "tags": []
          },
          "execution_count": 50
        }
      ]
    },
    {
      "cell_type": "code",
      "metadata": {
        "id": "U_UXQlA2PPmr"
      },
      "source": [
        ""
      ],
      "execution_count": null,
      "outputs": []
    }
  ]
}